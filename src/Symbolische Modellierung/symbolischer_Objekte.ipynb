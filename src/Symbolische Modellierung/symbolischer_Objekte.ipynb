{
 "cells": [
  {
   "cell_type": "markdown",
   "id": "899453e2",
   "metadata": {},
   "source": [
    "Arbeiten mit Funktionen"
   ]
  },
  {
   "cell_type": "code",
   "execution_count": 1,
   "id": "24e44021",
   "metadata": {},
   "outputs": [
    {
     "data": {
      "text/latex": [
       "$\\displaystyle \\frac{\\sin{\\left(x \\right)}}{x^{2} + 2 x + 3}$"
      ],
      "text/plain": [
       "<IPython.core.display.Math object>"
      ]
     },
     "metadata": {},
     "output_type": "display_data"
    }
   ],
   "source": [
    "import sympy as sp\n",
    "from IPython.display import display, Math\n",
    "\n",
    "x = sp.symbols('x')\n",
    "\n",
    "f = sp.sin(x)/(x**2 + 2*x + 3)\n",
    "\n",
    "display(Math(sp.latex(f)))"
   ]
  },
  {
   "cell_type": "markdown",
   "id": "d6d6bc88",
   "metadata": {},
   "source": [
    "Ausrechnen von Funktionswerten"
   ]
  },
  {
   "cell_type": "code",
   "execution_count": 2,
   "id": "f6b51998",
   "metadata": {},
   "outputs": [
    {
     "data": {
      "text/latex": [
       "$\\displaystyle f(1) = 0.140245164134649$"
      ],
      "text/plain": [
       "<IPython.core.display.Math object>"
      ]
     },
     "metadata": {},
     "output_type": "display_data"
    }
   ],
   "source": [
    "import sympy as sp\n",
    "from IPython.display import display, Math\n",
    "\n",
    "x = sp.symbols('x')\n",
    "\n",
    "f = sp.sin(x)/(x**2 + 2*x + 3)\n",
    "\n",
    "x_value = 1\n",
    "\n",
    "result = float(f.subs(x, x_value))\n",
    "\n",
    "display(Math(f\"f({sp.latex(x_value)}) = {sp.latex(result)}\"))"
   ]
  },
  {
   "cell_type": "markdown",
   "id": "5d09e1ed",
   "metadata": {},
   "source": [
    "Substitution einzelner Variablen"
   ]
  },
  {
   "cell_type": "code",
   "execution_count": 3,
   "id": "3d6d8552",
   "metadata": {},
   "outputs": [
    {
     "data": {
      "text/latex": [
       "$\\displaystyle \\frac{\\sin{\\left(a^{2} \\right)}}{a^{4} + 2 a^{2} + 3}$"
      ],
      "text/plain": [
       "<IPython.core.display.Math object>"
      ]
     },
     "metadata": {},
     "output_type": "display_data"
    },
    {
     "data": {
      "text/latex": [
       "$\\displaystyle \\frac{x}{\\operatorname{asin}^{2}{\\left(x \\right)} + 2 \\operatorname{asin}{\\left(x \\right)} + 3}$"
      ],
      "text/plain": [
       "<IPython.core.display.Math object>"
      ]
     },
     "metadata": {},
     "output_type": "display_data"
    }
   ],
   "source": [
    "import sympy as sp\n",
    "from IPython.display import display, Math\n",
    "\n",
    "x, a = sp.symbols('x a')\n",
    "\n",
    "f = sp.sin(x)/(x**2 + 2*x + 3)\n",
    "\n",
    "result1 = f.subs(x, a**2)\n",
    "result2 = f.subs(x, sp.asin(x))\n",
    "\n",
    "display(Math(sp.latex(result1)))\n",
    "display(Math(sp.latex(result2)))"
   ]
  },
  {
   "cell_type": "markdown",
   "id": "d0093f20",
   "metadata": {},
   "source": [
    "Symbolisches Rechnen mit konkreten Zahlen"
   ]
  },
  {
   "cell_type": "code",
   "execution_count": 4,
   "id": "3270053c",
   "metadata": {},
   "outputs": [
    {
     "data": {
      "text/latex": [
       "$\\displaystyle ein\\_zehntel = \\frac{1}{10}$"
      ],
      "text/plain": [
       "<IPython.core.display.Math object>"
      ]
     },
     "metadata": {},
     "output_type": "display_data"
    },
    {
     "data": {
      "text/latex": [
       "$\\displaystyle 2 \\cdot ein\\_zehntel = \\frac{1}{5}$"
      ],
      "text/plain": [
       "<IPython.core.display.Math object>"
      ]
     },
     "metadata": {},
     "output_type": "display_data"
    }
   ],
   "source": [
    "import sympy as sp\n",
    "from IPython.display import display, Math\n",
    "\n",
    "ein_zehntel = sp.Rational(1, 10)\n",
    "result = 2 * ein_zehntel\n",
    "\n",
    "display(Math(r\"ein\\_zehntel = \" + sp.latex(ein_zehntel)))\n",
    "display(Math(r\"2 \\cdot ein\\_zehntel = \" + sp.latex(result)))"
   ]
  },
  {
   "cell_type": "markdown",
   "id": "5b865ca5",
   "metadata": {},
   "source": [
    "Rechnen mit beliebiger Genauigkeit: VPA Objekte (variable precision arithmetic)"
   ]
  },
  {
   "cell_type": "code",
   "execution_count": 5,
   "id": "d98e0970",
   "metadata": {},
   "outputs": [
    {
     "data": {
      "text/latex": [
       "$\\displaystyle 123/456 = 0.2697368421$"
      ],
      "text/plain": [
       "<IPython.core.display.Math object>"
      ]
     },
     "metadata": {},
     "output_type": "display_data"
    },
    {
     "data": {
      "text/latex": [
       "$\\displaystyle \\pi = 3.1415926535897932385$"
      ],
      "text/plain": [
       "<IPython.core.display.Math object>"
      ]
     },
     "metadata": {},
     "output_type": "display_data"
    },
    {
     "data": {
      "text/latex": [
       "$\\displaystyle e^3 = 20.085536923187667741$"
      ],
      "text/plain": [
       "<IPython.core.display.Math object>"
      ]
     },
     "metadata": {},
     "output_type": "display_data"
    }
   ],
   "source": [
    "import sympy as sp\n",
    "from IPython.display import display, Math\n",
    "\n",
    "sp.init_printing(num_digits=20)\n",
    "\n",
    "result1 = sp.N(sp.Rational(123, 456), 10)\n",
    "result2 = sp.N(sp.pi, 20)\n",
    "expr = sp.exp(3)\n",
    "result3 = sp.N(expr, 20)\n",
    "\n",
    "display(Math(r'123/456 = ' + sp.latex(result1)))\n",
    "display(Math(r'\\pi = ' + sp.latex(result2)))\n",
    "display(Math(r'e^3 = ' + sp.latex(result3)))"
   ]
  },
  {
   "cell_type": "markdown",
   "id": "79336478",
   "metadata": {},
   "source": [
    "Analytische Berechnen eines Integrals I"
   ]
  },
  {
   "cell_type": "code",
   "execution_count": 6,
   "id": "ac6a54df",
   "metadata": {},
   "outputs": [
    {
     "data": {
      "text/latex": [
       "$\\displaystyle \\frac{x^{3}}{3} + x^{2} + 3 x$"
      ],
      "text/plain": [
       "<IPython.core.display.Math object>"
      ]
     },
     "metadata": {},
     "output_type": "display_data"
    }
   ],
   "source": [
    "import sympy as sp\n",
    "from IPython.display import display, Math\n",
    "\n",
    "x = sp.symbols('x')\n",
    "\n",
    "f = x**2 + 2*x + 3\n",
    "\n",
    "F = sp.integrate(f, x)\n",
    "\n",
    "display(Math(sp.latex(F)))"
   ]
  },
  {
   "cell_type": "markdown",
   "id": "a06b288d",
   "metadata": {},
   "source": [
    "Berechnung von Grenzwerte"
   ]
  },
  {
   "cell_type": "code",
   "execution_count": 7,
   "id": "0a8847a2",
   "metadata": {},
   "outputs": [
    {
     "data": {
      "text/latex": [
       "$\\displaystyle \\lim_{x \\to \\infty} \\frac{1}{x} = \\infty$"
      ],
      "text/plain": [
       "<IPython.core.display.Math object>"
      ]
     },
     "metadata": {},
     "output_type": "display_data"
    },
    {
     "data": {
      "text/latex": [
       "$\\displaystyle \\lim_{x \\to -\\infty} \\frac{1}{x} = -\\infty$"
      ],
      "text/plain": [
       "<IPython.core.display.Math object>"
      ]
     },
     "metadata": {},
     "output_type": "display_data"
    },
    {
     "data": {
      "text/latex": [
       "$\\displaystyle \\lim_{x \\to \\infty}\\left(\\frac{3 x + 2}{x - 4}\\right) = 3$"
      ],
      "text/plain": [
       "<IPython.core.display.Math object>"
      ]
     },
     "metadata": {},
     "output_type": "display_data"
    }
   ],
   "source": [
    "import sympy as sp\n",
    "from IPython.display import display, Math\n",
    "\n",
    "x = sp.symbols('x')\n",
    "\n",
    "rechts = sp.limit(1/x, x, 0, dir='+')\n",
    "links = sp.limit(1/x, x, 0, dir='-')\n",
    "inf = sp.limit((3*x+2)/(x-4), x, sp.oo)\n",
    "\n",
    "display(Math(sp.latex(sp.Limit(1/x, x, sp.oo)) + \" = \" + sp.latex(rechts)))\n",
    "display(Math(sp.latex(sp.Limit(1/x, x, -sp.oo)) + \" = \" + sp.latex(links)))\n",
    "display(Math(sp.latex(sp.Limit((3*x+2)/(x-4), x, sp.oo)) + \" = \" + sp.latex(inf)))"
   ]
  },
  {
   "cell_type": "markdown",
   "id": "c6ea2ff9",
   "metadata": {},
   "source": [
    "Analytische Berechnung der Ableitung"
   ]
  },
  {
   "cell_type": "code",
   "execution_count": 8,
   "id": "a1c9f00b",
   "metadata": {},
   "outputs": [
    {
     "data": {
      "text/latex": [
       "$\\displaystyle \\frac{d}{dx}(x^2+x+1) = 2 x + 1$"
      ],
      "text/plain": [
       "<IPython.core.display.Math object>"
      ]
     },
     "metadata": {},
     "output_type": "display_data"
    },
    {
     "data": {
      "text/latex": [
       "$\\displaystyle \\frac{d}{dx}(\\sin(a \\cdot x)) = a \\cos{\\left(a x \\right)}$"
      ],
      "text/plain": [
       "<IPython.core.display.Math object>"
      ]
     },
     "metadata": {},
     "output_type": "display_data"
    }
   ],
   "source": [
    "import sympy as sp\n",
    "from IPython.display import display, Math\n",
    "\n",
    "x, a = sp.symbols('x a')\n",
    "\n",
    "derivative1 = sp.diff(x**2 + x + 1, x)\n",
    "derivative2 = sp.diff(sp.sin(a*x), x)\n",
    "\n",
    "display(Math(r\"\\frac{d}{dx}(x^2+x+1) = \" + sp.latex(derivative1)))\n",
    "display(Math(r\"\\frac{d}{dx}(\\sin(a \\cdot x)) = \" + sp.latex(derivative2)))"
   ]
  },
  {
   "cell_type": "markdown",
   "id": "9ee61cae",
   "metadata": {},
   "source": [
    "Analytische Berechnen eines Integrals II"
   ]
  },
  {
   "cell_type": "code",
   "execution_count": 9,
   "id": "c8309f50",
   "metadata": {},
   "outputs": [
    {
     "data": {
      "text/latex": [
       "$\\displaystyle I(a, b) = \\int_{a}^{b} (x^2+2x+3) \\, dx = - \\frac{a^{3}}{3} - a^{2} - 3 a + \\frac{b^{3}}{3} + b^{2} + 3 b$"
      ],
      "text/plain": [
       "<IPython.core.display.Math object>"
      ]
     },
     "metadata": {},
     "output_type": "display_data"
    }
   ],
   "source": [
    "import sympy as sp\n",
    "from IPython.display import display, Math\n",
    "\n",
    "x, a, b = sp.symbols('x a b')\n",
    "\n",
    "f = x**2 + 2*x + 3\n",
    "\n",
    "I = sp.integrate(f, (x, a, b))\n",
    "\n",
    "display(Math(r\"I(a, b) = \\int_{a}^{b} (x^2+2x+3) \\, dx = \" + sp.latex(I)))"
   ]
  },
  {
   "cell_type": "markdown",
   "id": "6aa65764",
   "metadata": {},
   "source": [
    "Analytisches Lösen eines (linearen) Gleichungssystems I"
   ]
  },
  {
   "cell_type": "code",
   "execution_count": 10,
   "id": "27ae55a7",
   "metadata": {},
   "outputs": [
    {
     "data": {
      "text/latex": [
       "$\\displaystyle x_1 = \\frac{29}{13}$"
      ],
      "text/plain": [
       "<IPython.core.display.Math object>"
      ]
     },
     "metadata": {},
     "output_type": "display_data"
    },
    {
     "data": {
      "text/latex": [
       "$\\displaystyle x_2 = \\frac{1}{13}$"
      ],
      "text/plain": [
       "<IPython.core.display.Math object>"
      ]
     },
     "metadata": {},
     "output_type": "display_data"
    }
   ],
   "source": [
    "import sympy as sp\n",
    "from IPython.display import display, Math\n",
    "\n",
    "x1, x2 = sp.symbols('x1 x2')\n",
    "\n",
    "gleichung1 = sp.Eq(3*x1 + 4*x2, 7)\n",
    "gleichung2 = sp.Eq(4*x1 - 12*x2, 8)\n",
    "\n",
    "solution = sp.solve((gleichung1, gleichung2), (x1, x2))\n",
    "\n",
    "display(Math(r\"x_1 = \" + sp.latex(solution[x1])))\n",
    "display(Math(r\"x_2 = \" + sp.latex(solution[x2])))"
   ]
  },
  {
   "cell_type": "markdown",
   "id": "c6eacda7",
   "metadata": {},
   "source": [
    "Analytisches Lösen eines (linearen) Gleichungssystems II"
   ]
  },
  {
   "cell_type": "code",
   "execution_count": 11,
   "id": "53077c12",
   "metadata": {},
   "outputs": [
    {
     "data": {
      "text/latex": [
       "$\\displaystyle A = \\left[\\begin{matrix}3 & 4\\\\4 & -12\\end{matrix}\\right]$"
      ],
      "text/plain": [
       "<IPython.core.display.Math object>"
      ]
     },
     "metadata": {},
     "output_type": "display_data"
    },
    {
     "data": {
      "text/latex": [
       "$\\displaystyle B = \\left[\\begin{matrix}7\\\\8\\end{matrix}\\right]$"
      ],
      "text/plain": [
       "<IPython.core.display.Math object>"
      ]
     },
     "metadata": {},
     "output_type": "display_data"
    },
    {
     "data": {
      "text/latex": [
       "$\\displaystyle X = \\left\\{\\left( \\frac{29}{13}, \\  \\frac{1}{13}\\right)\\right\\}$"
      ],
      "text/plain": [
       "<IPython.core.display.Math object>"
      ]
     },
     "metadata": {},
     "output_type": "display_data"
    }
   ],
   "source": [
    "import sympy as sp\n",
    "from IPython.display import display, Math\n",
    "\n",
    "x1, x2 = sp.symbols('x1 x2')\n",
    "\n",
    "gleichung1 = sp.Eq(3*x1 + 4*x2, 7)\n",
    "gleichung2 = sp.Eq(4*x1 - 12*x2, 8)\n",
    "\n",
    "A, B = sp.linear_eq_to_matrix([gleichung1.lhs - gleichung1.rhs, gleichung2.lhs - gleichung2.rhs], [x1, x2])\n",
    "\n",
    "solution = sp.linsolve((A, B), [x1, x2])\n",
    "\n",
    "display(Math(r\"A = \" + sp.latex(A)))\n",
    "display(Math(r\"B = \" + sp.latex(B)))\n",
    "display(Math(r\"X = \" + sp.latex(solution)))"
   ]
  }
 ],
 "metadata": {
  "kernelspec": {
   "display_name": ".venv",
   "language": "python",
   "name": "python3"
  },
  "language_info": {
   "codemirror_mode": {
    "name": "ipython",
    "version": 3
   },
   "file_extension": ".py",
   "mimetype": "text/x-python",
   "name": "python",
   "nbconvert_exporter": "python",
   "pygments_lexer": "ipython3",
   "version": "3.13.2"
  }
 },
 "nbformat": 4,
 "nbformat_minor": 5
}

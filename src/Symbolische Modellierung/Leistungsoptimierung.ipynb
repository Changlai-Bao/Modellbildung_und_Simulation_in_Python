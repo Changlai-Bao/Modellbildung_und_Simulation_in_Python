{
 "cells": [
  {
   "cell_type": "markdown",
   "id": "d500eccc",
   "metadata": {},
   "source": [
    "# Leistungsoptimierung\n",
    "\n",
    "Gegeben ist folgendes elektrische Netzwerk mit Bauteilwerten\n",
    "\n",
    "$u(t) = \\sqrt{2} \\cdot 1\\text{ V}\\cos(\\omega t) \\quad R_1 = 10\\text{ Ω} \\quad R_2 = 100\\text{ Ω} \\quad L = 10\\text{ mH} \\quad C = 1\\text{ mF}$\n",
    "\n",
    "![Leistungsoptimierung](Leistungsoptimierung.png)\n",
    "\n",
    "Für dieses Netzwerk soll die Kreisfrequenz $\\omega_{\\text{opt}}$ ermittelt werden, bei der die Spannungsquelle die maximale Wirkleistung $P_{\\text{opt}}$ abgibt. Gehen Sie dazu in folgenden Schritten vor:\n",
    "\n",
    "1. Legen Sie die symbolische Variable w für die Kreisfrequenz $\\omega$ an, die als die zu optimierende Variable genutzt wird.\n",
    "\n",
    "2. Berechnen Sie den abgegebenen Strom als Funktion der Kreisfrequenz $I(\\omega)$ und legen Sie diese in der Variable I ab. Verwenden Sie für diese Berechnung Effektivwerte.\n",
    "\n",
    "3. Berechnen Sie die abgegebene Wirkleistung als Funktion der Kreisfrequenz $P(\\omega)$ und legen Sie diese in der Variable P ab. Zur Erinnerung: Bei der Verwendung von Effektivwerten berechnet sich die Wirkleistung als Realteil der Scheinleistung $P(\\omega) = \\text{Re}\\{S(\\omega)\\} = \\text{Re}\\{U(\\omega) \\cdot I^*(\\omega)\\}$.\n",
    "\n",
    "4. Berechnen Sie die Kreisfrequenz $\\omega_{\\text{opt}}$, bei der die maximale Wirkleistung $P(\\omega)$ abgegeben wird. Bestimmen Sie dazu die erste Ableitung von $P(\\omega)$, setzen diese zu Null und lösen diese Gleichung nach $\\omega$ auf. Legen Sie das Ergebnis in der Variablen w_opt ab.\n",
    "\n",
    "5. Berechnen Sie die maximal abgegebene Leistung $P(\\omega_{\\text{opt}})$ und legen Sie diese in der Variable Popt ab."
   ]
  },
  {
   "cell_type": "code",
   "execution_count": 11,
   "id": "4d432b7f",
   "metadata": {},
   "outputs": [
    {
     "name": "stdout",
     "output_type": "stream",
     "text": [
      "Die optimale Kreisfrequenz beträgt: 323.7741398956771 rad/s\n",
      "Die maximale Wirkleistung beträgt: 0.09903349377556439 W\n"
     ]
    },
    {
     "data": {
      "text/latex": [
       "$\\displaystyle \\text{Strom}~I(\\omega) = \\frac{100.0 w - 1000.0 i}{1.0 i w^{2} + 1010.0 w - 110000.0 i}$"
      ],
      "text/plain": [
       "<IPython.core.display.Math object>"
      ]
     },
     "metadata": {},
     "output_type": "display_data"
    },
    {
     "data": {
      "text/latex": [
       "$\\displaystyle \\text{Wirkleistung}~P(\\omega) = \\frac{100000.0 w^{2} + 110000000.0}{1.0 w^{4} + 800100.0 w^{2} + 12100000000.0}$"
      ],
      "text/plain": [
       "<IPython.core.display.Math object>"
      ]
     },
     "metadata": {},
     "output_type": "display_data"
    }
   ],
   "source": [
    "import sympy as sp\n",
    "from IPython.display import display, Math\n",
    "\n",
    "R1 = 10       # Ohm\n",
    "R2 = 100      # Ohm\n",
    "L = 10e-3     # H\n",
    "C = 1e-3      # F\n",
    "\n",
    "w = sp.symbols('w', real=True)\n",
    "\n",
    "Z_L = sp.I * w * L                     \n",
    "Z_C = 1 / (sp.I * w * C)               \n",
    "Z_R2 = R2                              \n",
    "Z_parallel = (Z_C * Z_R2) / (Z_C + Z_R2)  \n",
    "Z_gesamt = R1 + Z_L + Z_parallel      \n",
    "\n",
    "U_eff = 1     # V\n",
    "\n",
    "I = U_eff / Z_gesamt\n",
    "I = sp.simplify(I)\n",
    "\n",
    "S = U_eff * sp.conjugate(I)\n",
    "\n",
    "P = sp.re(S)\n",
    "P = sp.simplify(P)\n",
    "\n",
    "dP_dw = sp.diff(P, w)\n",
    "\n",
    "w_opt_eq = sp.Eq(dP_dw, 0)\n",
    "w_opt_solve = sp.solve(w_opt_eq, w, real=True)\n",
    "\n",
    "w_opt_sym = [sol for sol in w_opt_solve if sol > 0]\n",
    "if w_opt_sym:\n",
    "    w_opt = float(w_opt_sym[0])\n",
    "    \n",
    "    # Calculate maximum active power\n",
    "    Popt = P.subs(w, w_opt)\n",
    "    Popt = float(Popt)\n",
    "    \n",
    "    print(f\"Die optimale Kreisfrequenz beträgt: {w_opt} rad/s\")\n",
    "    print(f\"Die maximale Wirkleistung beträgt: {Popt} W\")\n",
    "else:\n",
    "    print(\"Keine positive Lösung gefunden.\")\n",
    "\n",
    "display(Math(r'\\text{Strom}~I(\\omega) = ' + sp.latex(I)))\n",
    "display(Math(r'\\text{Wirkleistung}~P(\\omega) = ' + sp.latex(P)))"
   ]
  }
 ],
 "metadata": {
  "kernelspec": {
   "display_name": ".venv",
   "language": "python",
   "name": "python3"
  },
  "language_info": {
   "codemirror_mode": {
    "name": "ipython",
    "version": 3
   },
   "file_extension": ".py",
   "mimetype": "text/x-python",
   "name": "python",
   "nbconvert_exporter": "python",
   "pygments_lexer": "ipython3",
   "version": "3.13.2"
  }
 },
 "nbformat": 4,
 "nbformat_minor": 5
}

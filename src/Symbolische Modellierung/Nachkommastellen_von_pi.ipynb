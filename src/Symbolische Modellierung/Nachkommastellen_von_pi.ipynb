{
 "cells": [
  {
   "cell_type": "markdown",
   "id": "a79d472d",
   "metadata": {},
   "source": [
    "# Nachkommastellen von pi\n",
    "\n",
    "Geben Sie die 289. Nachkommastelle von π an."
   ]
  },
  {
   "cell_type": "code",
   "execution_count": 4,
   "id": "919ffe2b",
   "metadata": {},
   "outputs": [
    {
     "name": "stdout",
     "output_type": "stream",
     "text": [
      "Die 289. Nachkommastelle von π: 2\n"
     ]
    }
   ],
   "source": [
    "import mpmath\n",
    "\n",
    "mpmath.mp.dps = 300\n",
    "\n",
    "pi_value = mpmath.pi\n",
    "\n",
    "pi_str = str(pi_value)\n",
    "\n",
    "n = 289\n",
    "pi_289 = int(pi_str[n+1])\n",
    "\n",
    "print(f\"Die 289. Nachkommastelle von π: {pi_289}\")"
   ]
  }
 ],
 "metadata": {
  "kernelspec": {
   "display_name": ".venv",
   "language": "python",
   "name": "python3"
  },
  "language_info": {
   "codemirror_mode": {
    "name": "ipython",
    "version": 3
   },
   "file_extension": ".py",
   "mimetype": "text/x-python",
   "name": "python",
   "nbconvert_exporter": "python",
   "pygments_lexer": "ipython3",
   "version": "3.13.2"
  }
 },
 "nbformat": 4,
 "nbformat_minor": 5
}

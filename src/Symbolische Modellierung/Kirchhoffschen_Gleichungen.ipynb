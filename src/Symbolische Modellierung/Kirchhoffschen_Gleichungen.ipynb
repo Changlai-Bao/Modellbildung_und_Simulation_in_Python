{
 "cells": [
  {
   "cell_type": "markdown",
   "id": "70e2b38c",
   "metadata": {},
   "source": [
    "# Kirchhoff'sche Gleichungen\n",
    "\n",
    "Gegeben ist folgendes elektrisches Netzwerk mit angegebenen Bauteilwerten. Gesucht ist der Strom $I_3$ durch den Widerstand $R_1$.\n",
    "\n",
    "![Kirchhoffsche_Gleichungen](Kirchhoffsche_Gleichungen.png)\n",
    "\n",
    "Lösen Sie das Problem mit Hilfe symbolischer Variablen. Stellen Sie die drei Kirchhoff'schen Gleichungen (zwei Maschengleichungen und eine Knotengleichung) auf und lösen das Gleichungssystem symbolisch. Setzen Sie dann in die Lösung die Zahlenwerte der einzelnen Bauteile ein."
   ]
  },
  {
   "cell_type": "code",
   "execution_count": 9,
   "id": "bcb4fff6-6ed0-4f0a-8fc9-e3c3025e784c",
   "metadata": {},
   "outputs": [
    {
     "name": "stdout",
     "output_type": "stream",
     "text": [
      "Der Strom I1 beträgt 0.0364 A\n",
      "Der Strom I2 beträgt 0.1182 A\n",
      "Der Strom I3 beträgt 0.1545 A\n",
      "Die Spannung über R1 beträgt 0.3636 V\n",
      "Die Spannung über R2 beträgt 2.3636 V\n",
      "Die Spannung über R3 beträgt 4.6364 V\n"
     ]
    }
   ],
   "source": [
    "import sympy as sp\n",
    "\n",
    "R1 = 10  # Ohm\n",
    "R2 = 20  # Ohm\n",
    "R3 = 30  # Ohm\n",
    "Uq1 = 5  # Volt\n",
    "Uq2 = 7  # Volt\n",
    "\n",
    "I3 = sp.symbols('I3')\n",
    "\n",
    "I1 = (Uq1 - R3*I3)/R1\n",
    "I2 = I3 - I1\n",
    "\n",
    "gleichnung = sp.Eq(Uq2 - R2*I2 - R3*I3, 0)\n",
    "I3_solve = sp.solve(gleichnung, I3)[0]\n",
    "\n",
    "I1_solve = (Uq1 - R3*I3_solve)/R1\n",
    "I2_solve = I3_solve - I1_solve\n",
    "\n",
    "I1 = float(I1_solve)\n",
    "I2 = float(I2_solve)\n",
    "I3 = float(I3_solve)\n",
    "\n",
    "print(f\"Der Strom I1 beträgt {I1:.4f} A\")\n",
    "print(f\"Der Strom I2 beträgt {I2:.4f} A\")\n",
    "print(f\"Der Strom I3 beträgt {I3:.4f} A\")\n",
    "\n",
    "U_R1 = I1 * R1\n",
    "U_R2 = I2 * R2\n",
    "U_R3 = I3 * R3\n",
    "\n",
    "print(f\"Die Spannung über R1 beträgt {U_R1:.4f} V\")\n",
    "print(f\"Die Spannung über R2 beträgt {U_R2:.4f} V\")\n",
    "print(f\"Die Spannung über R3 beträgt {U_R3:.4f} V\")"
   ]
  }
 ],
 "metadata": {
  "kernelspec": {
   "display_name": ".venv",
   "language": "python",
   "name": "python3"
  },
  "language_info": {
   "codemirror_mode": {
    "name": "ipython",
    "version": 3
   },
   "file_extension": ".py",
   "mimetype": "text/x-python",
   "name": "python",
   "nbconvert_exporter": "python",
   "pygments_lexer": "ipython3",
   "version": "3.13.2"
  }
 },
 "nbformat": 4,
 "nbformat_minor": 5
}

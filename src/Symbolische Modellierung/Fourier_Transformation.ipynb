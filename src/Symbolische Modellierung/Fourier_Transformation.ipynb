{
 "cells": [
  {
   "cell_type": "markdown",
   "id": "560c9286",
   "metadata": {},
   "source": [
    "# Berechnung der Fourier Transformation\n",
    "\n",
    "Gegeben ist die Zeitfunktion\n",
    "\n",
    "$x(t) = \\sigma(t) \\cdot e^{-a \\cdot t}$\n",
    "\n",
    "Wobei $\\sigma(t)$ die Heavisid'sche Sprungfunktion darstellt. Diese steht Ihnen als `step()` oder `sigma()` zur Verfügung.\n",
    "\n",
    "Von dieser Funktion soll die Fourier-Transformierte $X(\\omega)$ bestimmt werden.\n",
    "\n",
    "1. Suchen Sie im Internet oder in Ihren Vorlesungsunterlagen zur Systemtheorie nach der entsprechenden Korrespondenz von $X(\\omega)$ und $x(t)$.\n",
    "2. Erstellen Sie symbolische Variablen für $t$, $a$ und $\\omega$.\n",
    "3. Berechnen Sie die Fourier-Transformierte $X(\\omega)$ und legen Sie diese in der symbolischen Variablen x ab. Vergleichen Sie das Ergebnis mit dem aus der Korrespondenztabelle.\n",
    "\n",
    "$$X(\\omega) = \\int_{-\\infty}^{\\infty} x(t) \\cdot e^{-j\\omega t} dt$$\n",
    "\n",
    "Nun soll eine zweite Zeitfunktion\n",
    "\n",
    "$y(t) = \\sigma(t) \\cdot e^{-a \\cdot t} \\cdot \\sin(2\\pi f_0 t + \\varphi)$\n",
    "\n",
    "betrachtet werden. Korrespondenzen dieser Art sind nur durch Auswertung verschiedener Eigenschaften der Fourier-Transformation (Faltungseigenschaft) oder durch ausführliche Recherche der Literatur zu finden. In Matlab lassen sich diese vergleichsweise einfach mit Hilfe der *Symbolic Math Toolbox* ermitteln. Gehen Sie dazu folgendermaßen vor:\n",
    "\n",
    "1. Ergänzen Sie die fehlenden symbolischen Variablen und erzeugen Sie die neue Zeitfunktion $y(t)$ und legen Sie diese in y ab.\n",
    "2. Berechnen Sie die Fourier-Transformierte $Y(\\omega)$ und legen Sie diese in der Variable Y ab."
   ]
  },
  {
   "cell_type": "code",
   "execution_count": 27,
   "id": "179f1066",
   "metadata": {},
   "outputs": [
    {
     "data": {
      "text/latex": [
       "$\\displaystyle \\text{Die Fourier-Transformierte von}~x_t = \\sigma(t) \\cdot e^{-a \\cdot t}~\\text{ist: }\\frac{1}{a + i w}$"
      ],
      "text/plain": [
       "<IPython.core.display.Math object>"
      ]
     },
     "metadata": {},
     "output_type": "display_data"
    },
    {
     "data": {
      "text/latex": [
       "$\\displaystyle \\text{Die Fourier-Transformierte von}~y_t = \\sigma(t) \\cdot e^{-a \\cdot t} \\cdot \\sin(2\\pi f_0 t + \\phi)~\\text{ist: }\\frac{i e^{- i \\phi}}{2 \\left(a + i \\left(2 \\pi f_{0} + w\\right)\\right)} - \\frac{i e^{i \\phi}}{2 \\left(a + i \\left(- 2 \\pi f_{0} + w\\right)\\right)}$"
      ],
      "text/plain": [
       "<IPython.core.display.Math object>"
      ]
     },
     "metadata": {},
     "output_type": "display_data"
    }
   ],
   "source": [
    "import sympy as sp\n",
    "from sympy import symbols, exp, sin, I, pi, Heaviside\n",
    "from IPython.display import display, Math\n",
    "\n",
    "t, a, w, f0, phi = symbols('t a w f0 phi', real=True)\n",
    "\n",
    "sigma_t = Heaviside(t)\n",
    "\n",
    "x_t = sigma_t * exp(-a*t)\n",
    "X_w = 1/(a + I*w)\n",
    "\n",
    "y_t = sigma_t * exp(-a*t) * sin(2*pi*f0*t + phi)\n",
    "Y_w_pos = (exp(I*phi))/(2*I) * 1/(a + I*(w-2*pi*f0))\n",
    "Y_w_neg = -(exp(-I*phi))/(2*I) * 1/(a + I*(w+2*pi*f0))\n",
    "Y_w = Y_w_pos + Y_w_neg\n",
    "\n",
    "display(Math(r'\\text{Die Fourier-Transformierte von}~x_t = \\sigma(t) \\cdot e^{-a \\cdot t}~\\text{ist: }' + sp.latex(X_w)))\n",
    "display(Math(r'\\text{Die Fourier-Transformierte von}~y_t = \\sigma(t) \\cdot e^{-a \\cdot t} \\cdot \\sin(2\\pi f_0 t + \\phi)~\\text{ist: }' + sp.latex(Y_w)))"
   ]
  }
 ],
 "metadata": {
  "kernelspec": {
   "display_name": ".venv",
   "language": "python",
   "name": "python3"
  },
  "language_info": {
   "codemirror_mode": {
    "name": "ipython",
    "version": 3
   },
   "file_extension": ".py",
   "mimetype": "text/x-python",
   "name": "python",
   "nbconvert_exporter": "python",
   "pygments_lexer": "ipython3",
   "version": "3.13.2"
  }
 },
 "nbformat": 4,
 "nbformat_minor": 5
}
